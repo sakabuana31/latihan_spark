{
 "cells": [
  {
   "cell_type": "code",
   "execution_count": 1,
   "id": "00b45745-b7d4-4f6a-b069-d55592f7c6dd",
   "metadata": {
    "tags": []
   },
   "outputs": [],
   "source": [
    "from pyspark.sql import SparkSession\n",
    "from pyspark.sql import Row"
   ]
  },
  {
   "cell_type": "code",
   "execution_count": 2,
   "id": "31dcb65f-32e4-4e65-bd60-08cf14cf4ace",
   "metadata": {
    "tags": []
   },
   "outputs": [
    {
     "name": "stdout",
     "output_type": "stream",
     "text": [
      "23/02/18 22:42:37 WARN Utils: Your hostname, lenovo resolves to a loopback address: 127.0.1.1; using 192.168.1.10 instead (on interface wlp0s20f3)\n",
      "23/02/18 22:42:37 WARN Utils: Set SPARK_LOCAL_IP if you need to bind to another address\n"
     ]
    },
    {
     "name": "stderr",
     "output_type": "stream",
     "text": [
      "Setting default log level to \"WARN\".\n",
      "To adjust logging level use sc.setLogLevel(newLevel). For SparkR, use setLogLevel(newLevel).\n"
     ]
    },
    {
     "name": "stdout",
     "output_type": "stream",
     "text": [
      "23/02/18 22:42:37 WARN NativeCodeLoader: Unable to load native-hadoop library for your platform... using builtin-java classes where applicable\n"
     ]
    }
   ],
   "source": [
    "#Create a spark session\n",
    "spark = SparkSession.builder.appName(\"SparkSQL\").getOrCreate()"
   ]
  },
  {
   "cell_type": "code",
   "execution_count": 3,
   "id": "e93635fe-d382-45a1-9756-76800acf5967",
   "metadata": {
    "tags": []
   },
   "outputs": [
    {
     "name": "stderr",
     "output_type": "stream",
     "text": [
      "[Stage 1:>                                                          (0 + 1) / 1]\r"
     ]
    },
    {
     "name": "stdout",
     "output_type": "stream",
     "text": [
      "Here is our inferred schema:\n",
      "root\n",
      " |-- VendorID: integer (nullable = true)\n",
      " |-- tpep_pickup_datetime: timestamp (nullable = true)\n",
      " |-- tpep_dropoff_datetime: timestamp (nullable = true)\n",
      " |-- passenger_count: integer (nullable = true)\n",
      " |-- trip_distance: double (nullable = true)\n",
      " |-- RatecodeID: integer (nullable = true)\n",
      " |-- store_and_fwd_flag: string (nullable = true)\n",
      " |-- PULocationID: integer (nullable = true)\n",
      " |-- DOLocationID: integer (nullable = true)\n",
      " |-- payment_type: integer (nullable = true)\n",
      " |-- fare_amount: double (nullable = true)\n",
      " |-- extra: double (nullable = true)\n",
      " |-- mta_tax: double (nullable = true)\n",
      " |-- tip_amount: double (nullable = true)\n",
      " |-- tolls_amount: double (nullable = true)\n",
      " |-- improvement_surcharge: double (nullable = true)\n",
      " |-- total_amount: double (nullable = true)\n",
      " |-- congestion_surcharge: double (nullable = true)\n",
      "\n"
     ]
    },
    {
     "name": "stderr",
     "output_type": "stream",
     "text": [
      "                                                                                \r"
     ]
    }
   ],
   "source": [
    "df = spark.read.option(\"header\", \"true\").option(\"inferSchema\", \"true\")\\\n",
    "    .csv(\"/home/sakabuana31/DigitalSkola/Learning/latihan_spark/input/yellow_tripdata_2021-01.csv.gz\")\n",
    "print(\"Here is our inferred schema:\")\n",
    "df.printSchema()"
   ]
  },
  {
   "cell_type": "code",
   "execution_count": 4,
   "id": "6f22dc0d-f9d5-4d92-a1e3-0ff2fc44f5cc",
   "metadata": {
    "tags": []
   },
   "outputs": [
    {
     "name": "stdout",
     "output_type": "stream",
     "text": [
      "+--------+--------------------+---------------------+---------------+-------------+----------+------------------+------------+------------+------------+-----------+-----+-------+----------+------------+---------------------+------------+--------------------+\n",
      "|VendorID|tpep_pickup_datetime|tpep_dropoff_datetime|passenger_count|trip_distance|RatecodeID|store_and_fwd_flag|PULocationID|DOLocationID|payment_type|fare_amount|extra|mta_tax|tip_amount|tolls_amount|improvement_surcharge|total_amount|congestion_surcharge|\n",
      "+--------+--------------------+---------------------+---------------+-------------+----------+------------------+------------+------------+------------+-----------+-----+-------+----------+------------+---------------------+------------+--------------------+\n",
      "|       1| 2021-01-01 00:30:10|  2021-01-01 00:36:12|              1|          2.1|         1|                 N|         142|          43|           2|        8.0|  3.0|    0.5|       0.0|         0.0|                  0.3|        11.8|                 2.5|\n",
      "|       1| 2021-01-01 00:51:20|  2021-01-01 00:52:19|              1|          0.2|         1|                 N|         238|         151|           2|        3.0|  0.5|    0.5|       0.0|         0.0|                  0.3|         4.3|                 0.0|\n",
      "|       1| 2021-01-01 00:43:30|  2021-01-01 01:11:06|              1|         14.7|         1|                 N|         132|         165|           1|       42.0|  0.5|    0.5|      8.65|         0.0|                  0.3|       51.95|                 0.0|\n",
      "|       1| 2021-01-01 00:15:48|  2021-01-01 00:31:01|              0|         10.6|         1|                 N|         138|         132|           1|       29.0|  0.5|    0.5|      6.05|         0.0|                  0.3|       36.35|                 0.0|\n",
      "|       2| 2021-01-01 00:31:49|  2021-01-01 00:48:21|              1|         4.94|         1|                 N|          68|          33|           1|       16.5|  0.5|    0.5|      4.06|         0.0|                  0.3|       24.36|                 2.5|\n",
      "|       1| 2021-01-01 00:16:29|  2021-01-01 00:24:30|              1|          1.6|         1|                 N|         224|          68|           1|        8.0|  3.0|    0.5|      2.35|         0.0|                  0.3|       14.15|                 2.5|\n",
      "|       1| 2021-01-01 00:00:28|  2021-01-01 00:17:28|              1|          4.1|         1|                 N|          95|         157|           2|       16.0|  0.5|    0.5|       0.0|         0.0|                  0.3|        17.3|                 0.0|\n",
      "|       1| 2021-01-01 00:12:29|  2021-01-01 00:30:34|              1|          5.7|         1|                 N|          90|          40|           2|       18.0|  3.0|    0.5|       0.0|         0.0|                  0.3|        21.8|                 2.5|\n",
      "|       1| 2021-01-01 00:39:16|  2021-01-01 01:00:13|              1|          9.1|         1|                 N|          97|         129|           4|       27.5|  0.5|    0.5|       0.0|         0.0|                  0.3|        28.8|                 0.0|\n",
      "|       1| 2021-01-01 00:26:12|  2021-01-01 00:39:46|              2|          2.7|         1|                 N|         263|         142|           1|       12.0|  3.0|    0.5|      3.15|         0.0|                  0.3|       18.95|                 2.5|\n",
      "|       2| 2021-01-01 00:15:52|  2021-01-01 00:38:07|              3|         6.11|         1|                 N|         164|         255|           1|       20.5|  0.5|    0.5|       0.0|         0.0|                  0.3|        24.3|                 2.5|\n",
      "|       2| 2021-01-01 00:46:36|  2021-01-01 00:53:45|              2|         1.21|         1|                 N|         255|          80|           1|        7.0|  0.5|    0.5|      2.49|         0.0|                  0.3|       10.79|                 0.0|\n",
      "|       1| 2021-01-01 00:10:46|  2021-01-01 00:32:58|              2|          7.4|         1|                 N|         138|         166|           2|       24.5|  2.5|    0.5|       0.0|        6.12|                  0.3|       33.92|                 0.0|\n",
      "|       2| 2021-01-01 00:31:06|  2021-01-01 00:38:52|              5|          1.7|         1|                 N|         142|          50|           1|        8.0|  0.5|    0.5|      2.36|         0.0|                  0.3|       14.16|                 2.5|\n",
      "|       2| 2021-01-01 00:42:11|  2021-01-01 00:44:24|              5|         0.81|         1|                 N|          50|         142|           2|        4.5|  0.5|    0.5|       0.0|         0.0|                  0.3|         8.3|                 2.5|\n",
      "|       2| 2021-01-01 00:17:48|  2021-01-01 00:21:55|              1|         1.01|         1|                 N|         236|         237|           1|        5.5|  0.5|    0.5|       1.0|         0.0|                  0.3|        10.3|                 2.5|\n",
      "|       2| 2021-01-01 00:33:38|  2021-01-01 00:38:37|              1|         0.73|         1|                 N|         142|         239|           1|        5.5|  0.5|    0.5|      2.79|         0.0|                  0.3|       12.09|                 2.5|\n",
      "|       2| 2021-01-01 00:47:56|  2021-01-01 00:52:53|              1|         1.17|         1|                 N|         238|         166|           1|        6.5|  0.5|    0.5|      2.06|         0.0|                  0.3|       12.36|                 2.5|\n",
      "|       2| 2021-01-01 00:04:21|  2021-01-01 00:07:58|              1|         0.78|         1|                 N|         239|         238|           1|        4.5|  0.5|    0.5|      1.66|         0.0|                  0.3|        9.96|                 2.5|\n",
      "|       2| 2021-01-01 00:18:36|  2021-01-01 00:27:10|              2|         1.66|         1|                 N|         151|         142|           2|        8.5|  0.5|    0.5|       0.0|         0.0|                  0.3|        12.3|                 2.5|\n",
      "+--------+--------------------+---------------------+---------------+-------------+----------+------------------+------------+------------+------------+-----------+-----+-------+----------+------------+---------------------+------------+--------------------+\n",
      "only showing top 20 rows\n",
      "\n"
     ]
    }
   ],
   "source": [
    "df.show()"
   ]
  },
  {
   "cell_type": "code",
   "execution_count": 5,
   "id": "359006ac-0797-4de6-800c-1d788ea4a939",
   "metadata": {
    "tags": []
   },
   "outputs": [],
   "source": [
    "df.createOrReplaceTempView(\"tripData\")"
   ]
  },
  {
   "cell_type": "code",
   "execution_count": 12,
   "id": "7ab3fa84-2e45-4974-a929-90a6cd726797",
   "metadata": {
    "tags": []
   },
   "outputs": [
    {
     "name": "stderr",
     "output_type": "stream",
     "text": [
      "[Stage 3:>                                                          (0 + 1) / 1]\r"
     ]
    },
    {
     "name": "stdout",
     "output_type": "stream",
     "text": [
      "+--------+--------------------+---------------------+\n",
      "|VendorID|tpep_pickup_datetime|tpep_dropoff_datetime|\n",
      "+--------+--------------------+---------------------+\n",
      "|       1| 2021-01-01 00:25:30|  2021-01-01 00:35:34|\n",
      "|       1| 2021-01-01 00:51:20|  2021-01-01 00:52:19|\n",
      "|       1| 2021-01-01 00:53:01|  2021-01-01 00:59:03|\n",
      "|       1| 2021-01-01 00:56:57|  2021-01-01 01:04:21|\n",
      "|       1| 2021-01-01 01:25:53|  2021-01-01 01:43:54|\n",
      "|       1| 2021-01-01 01:26:07|  2021-01-01 01:38:13|\n",
      "|       1| 2021-01-01 01:26:32|  2021-01-01 01:32:15|\n",
      "|       1| 2021-01-01 01:38:54|  2021-01-01 01:57:07|\n",
      "|       1| 2021-01-01 01:40:22|  2021-01-01 02:06:31|\n",
      "|       1| 2021-01-01 01:43:26|  2021-01-01 01:53:31|\n",
      "|       1| 2021-01-01 01:46:47|  2021-01-01 01:58:55|\n",
      "|       1| 2021-01-01 01:46:49|  2021-01-01 02:05:22|\n",
      "|       1| 2021-01-01 01:53:59|  2021-01-01 01:54:03|\n",
      "|       1| 2021-01-01 01:56:17|  2021-01-01 02:15:17|\n",
      "|       1| 2021-01-01 02:27:04|  2021-01-01 02:35:33|\n",
      "|       1| 2021-01-01 02:33:05|  2021-01-01 02:42:34|\n",
      "|       1| 2021-01-01 02:39:13|  2021-01-01 02:49:54|\n",
      "|       1| 2021-01-01 02:47:28|  2021-01-01 02:53:54|\n",
      "|       1| 2021-01-01 03:19:39|  2021-01-01 03:27:46|\n",
      "|       1| 2021-01-01 03:25:10|  2021-01-01 03:32:19|\n",
      "+--------+--------------------+---------------------+\n",
      "only showing top 20 rows\n",
      "\n"
     ]
    },
    {
     "name": "stderr",
     "output_type": "stream",
     "text": [
      "                                                                                \r"
     ]
    }
   ],
   "source": [
    "sqlDF = spark.sql(\"SELECT DISTINCT VendorID,  tpep_pickup_datetime, tpep_dropoff_datetime FROM \\\n",
    "tripData where PULocationID is not null and DOLocationID ='151' and VendorID= '1' \\\n",
    "GROUP BY VendorID,  tpep_pickup_datetime, tpep_dropoff_datetime ORDER BY tpep_pickup_datetime ASC\")\n",
    "sqlDF.show()"
   ]
  },
  {
   "cell_type": "code",
   "execution_count": 14,
   "id": "22dc5f21-03f3-4c42-aa0d-f9a977992b21",
   "metadata": {
    "tags": []
   },
   "outputs": [
    {
     "name": "stderr",
     "output_type": "stream",
     "text": [
      "[Stage 6:>                                                          (0 + 1) / 1]\r"
     ]
    },
    {
     "name": "stdout",
     "output_type": "stream",
     "text": [
      "+------------------+\n",
      "|store_and_fwd_flag|\n",
      "+------------------+\n",
      "|              null|\n",
      "|                 Y|\n",
      "|                 N|\n",
      "+------------------+\n",
      "\n"
     ]
    },
    {
     "name": "stderr",
     "output_type": "stream",
     "text": [
      "                                                                                \r"
     ]
    }
   ],
   "source": [
    "df_distinct = spark.sql(\"SELECT DISTINCT store_and_fwd_flag from tripData where PULocationID IS NOT NULL and DOLocationID is NOT NULL \")\n",
    "df_distinct.show()"
   ]
  },
  {
   "cell_type": "code",
   "execution_count": 15,
   "id": "21ec99a3-fed4-4102-a149-da8220e8088a",
   "metadata": {
    "tags": []
   },
   "outputs": [
    {
     "name": "stderr",
     "output_type": "stream",
     "text": [
      "                                                                                \r"
     ]
    }
   ],
   "source": [
    "sqlDF.write.parquet(\"/home/sakabuana31/DigitalSkola/Learning/latihan_spark/output/spark_write_parquet.parquet\")"
   ]
  },
  {
   "cell_type": "code",
   "execution_count": 16,
   "id": "70a93a3e-dc3d-4f14-912f-8ab677a19f0c",
   "metadata": {
    "tags": []
   },
   "outputs": [
    {
     "name": "stdout",
     "output_type": "stream",
     "text": [
      "+--------+--------------------+---------------------+\n",
      "|VendorID|tpep_pickup_datetime|tpep_dropoff_datetime|\n",
      "+--------+--------------------+---------------------+\n",
      "|       1| 2021-01-01 00:25:30|  2021-01-01 00:35:34|\n",
      "|       1| 2021-01-01 00:51:20|  2021-01-01 00:52:19|\n",
      "|       1| 2021-01-01 00:53:01|  2021-01-01 00:59:03|\n",
      "|       1| 2021-01-01 00:56:57|  2021-01-01 01:04:21|\n",
      "|       1| 2021-01-01 01:25:53|  2021-01-01 01:43:54|\n",
      "|       1| 2021-01-01 01:26:07|  2021-01-01 01:38:13|\n",
      "|       1| 2021-01-01 01:26:32|  2021-01-01 01:32:15|\n",
      "|       1| 2021-01-01 01:38:54|  2021-01-01 01:57:07|\n",
      "|       1| 2021-01-01 01:40:22|  2021-01-01 02:06:31|\n",
      "|       1| 2021-01-01 01:43:26|  2021-01-01 01:53:31|\n",
      "|       1| 2021-01-01 01:46:47|  2021-01-01 01:58:55|\n",
      "|       1| 2021-01-01 01:46:49|  2021-01-01 02:05:22|\n",
      "|       1| 2021-01-01 01:53:59|  2021-01-01 01:54:03|\n",
      "|       1| 2021-01-01 01:56:17|  2021-01-01 02:15:17|\n",
      "|       1| 2021-01-01 02:27:04|  2021-01-01 02:35:33|\n",
      "|       1| 2021-01-01 02:33:05|  2021-01-01 02:42:34|\n",
      "|       1| 2021-01-01 02:39:13|  2021-01-01 02:49:54|\n",
      "|       1| 2021-01-01 02:47:28|  2021-01-01 02:53:54|\n",
      "|       1| 2021-01-01 03:19:39|  2021-01-01 03:27:46|\n",
      "|       1| 2021-01-01 03:25:10|  2021-01-01 03:32:19|\n",
      "+--------+--------------------+---------------------+\n",
      "only showing top 20 rows\n",
      "\n"
     ]
    }
   ],
   "source": [
    "df_parquet = spark.read.parquet(\"/home/sakabuana31/DigitalSkola/Learning/latihan_spark/output/spark_write_parquet.parquet\")\n",
    "df_parquet.show()"
   ]
  },
  {
   "cell_type": "code",
   "execution_count": 22,
   "id": "240e548a-f001-495c-9c2d-5b65258904cc",
   "metadata": {
    "tags": []
   },
   "outputs": [
    {
     "name": "stderr",
     "output_type": "stream",
     "text": [
      "[Stage 22:>                                                         (0 + 1) / 1]\r"
     ]
    },
    {
     "name": "stdout",
     "output_type": "stream",
     "text": [
      "+--------+------------+------------+----------+\n",
      "|VendorID|PUlocationID|DOlocationID|RatecodeID|\n",
      "+--------+------------+------------+----------+\n",
      "|       1|         138|          96|         1|\n",
      "|       1|         132|         220|         1|\n",
      "|       1|         237|         224|         1|\n",
      "|       1|         170|         229|         1|\n",
      "|       1|         236|         236|         1|\n",
      "|       1|         262|         140|         1|\n",
      "|       1|         141|         237|         1|\n",
      "|       1|         170|         224|         1|\n",
      "|       1|         229|         237|         1|\n",
      "|       1|         143|         143|         1|\n",
      "|       1|         239|         163|         1|\n",
      "|       1|          90|         223|         1|\n",
      "|       1|         166|         237|         1|\n",
      "|       1|          68|         140|         1|\n",
      "|       1|         116|          65|         1|\n",
      "|       1|         162|         161|         1|\n",
      "|       1|         142|         143|         1|\n",
      "|       1|         142|          82|         1|\n",
      "|       1|         238|         164|         1|\n",
      "|       1|         132|          40|         1|\n",
      "+--------+------------+------------+----------+\n",
      "only showing top 20 rows\n",
      "\n"
     ]
    },
    {
     "name": "stderr",
     "output_type": "stream",
     "text": [
      "                                                                                \r"
     ]
    }
   ],
   "source": [
    "sqlTripData = spark.sql(\"SELECT VendorID, PUlocationID, DOlocationID, RatecodeID \\\n",
    "FROM tripData WHERE VendorID IS NOT NULL AND PULocationID IS NOT NULL and DOLocationID is NOT NULL AND tpep_pickup_datetime >= ' 2021-01-01' \\\n",
    "AND tpep_pickup_datetime <=' 2021-01-03' GROUP BY VendorID, PUlocationID, DOlocationID, RatecodeID \\\n",
    "ORDER BY VendorID\")\n",
    "sqlTripData.show()"
   ]
  },
  {
   "cell_type": "code",
   "execution_count": null,
   "id": "86751e30-480d-4386-b5f7-dc25d19a4a54",
   "metadata": {},
   "outputs": [],
   "source": []
  }
 ],
 "metadata": {
  "kernelspec": {
   "display_name": "Python 3",
   "language": "python",
   "name": "python3"
  },
  "language_info": {
   "codemirror_mode": {
    "name": "ipython",
    "version": 3
   },
   "file_extension": ".py",
   "mimetype": "text/x-python",
   "name": "python",
   "nbconvert_exporter": "python",
   "pygments_lexer": "ipython3",
   "version": "3.10.6"
  },
  "vscode": {
   "interpreter": {
    "hash": "916dbcbb3f70747c44a77c7bcd40155683ae19c65e1c03b4aa3499c5328201f1"
   }
  }
 },
 "nbformat": 4,
 "nbformat_minor": 5
}
